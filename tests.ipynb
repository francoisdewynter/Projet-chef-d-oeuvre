{
 "cells": [
  {
   "cell_type": "code",
   "execution_count": 63,
   "metadata": {},
   "outputs": [],
   "source": [
    "import pytest\n",
    "import sqlite3\n",
    "import pickle\n",
    "import numpy as np\n",
    "import pandas as pd\n",
    "\n",
    "conn=sqlite3.connect('db_test.db')\n",
    "c=conn.cursor()"
   ]
  },
  {
   "cell_type": "code",
   "execution_count": 55,
   "metadata": {},
   "outputs": [
    {
     "name": "stdout",
     "output_type": "stream",
     "text": [
      "Table created!\n"
     ]
    }
   ],
   "source": [
    "def test_table_user():\n",
    "    c.execute('CREATE TABLE IF NOT EXISTS users(id INTEGER PRIMARY KEY,  admin INTEGER, username TEXT, password TEXT)')\n",
    "    c.execute('SHOW TABLES')\n",
    "    if :\n",
    "        print('Table created!')\n",
    "    else:\n",
    "        print('Table not created!')\n",
    "\n",
    "    assert c==f"
   ]
  },
  {
   "cell_type": "code",
   "execution_count": 56,
   "metadata": {},
   "outputs": [
    {
     "name": "stdout",
     "output_type": "stream",
     "text": [
      "Table fulfilled!\n"
     ]
    }
   ],
   "source": [
    "username='Younglink'\n",
    "password='K5644'\n",
    "g=c.execute('INSERT INTO users(admin, username, password) VALUES (?,?,?)',(1,username,password))\n",
    "if c==g:\n",
    "    print('Table fulfilled!')\n",
    "else:\n",
    "    print('Not fulfilled!')\n",
    "\n",
    "assert c==g"
   ]
  },
  {
   "cell_type": "code",
   "execution_count": 57,
   "metadata": {},
   "outputs": [
    {
     "name": "stdout",
     "output_type": "stream",
     "text": [
      "1\n"
     ]
    }
   ],
   "source": [
    "h=c.execute('SELECT * FROM users WHERE username =? AND password =?',(username, password))\n",
    "if c==h:\n",
    "    print('1')\n",
    "else:\n",
    "    print('0')\n",
    "assert c==h"
   ]
  },
  {
   "cell_type": "code",
   "execution_count": 58,
   "metadata": {},
   "outputs": [
    {
     "name": "stdout",
     "output_type": "stream",
     "text": [
      "Table displayed!\n"
     ]
    }
   ],
   "source": [
    "i=c.execute('SELECT * FROM users')\n",
    "if c==i:\n",
    "    print('Table displayed!')\n",
    "else:\n",
    "    print('Table not displayed!')\n",
    "assert c==i"
   ]
  },
  {
   "cell_type": "code",
   "execution_count": 59,
   "metadata": {},
   "outputs": [
    {
     "name": "stdout",
     "output_type": "stream",
     "text": [
      "Data table created and displayed!\n"
     ]
    }
   ],
   "source": [
    "df=pd.read_csv('zirconia_cubic.csv')\n",
    "df.head().to_sql(\"data\", conn, if_exists=\"replace\",index_label='id')\n",
    "\n",
    "j=c.execute(\"select * from data\")\n",
    "if c==j:\n",
    "    print('Data table created and displayed!')\n",
    "else:\n",
    "    print(\"Couldn't be created!\")\n",
    "assert c==j"
   ]
  },
  {
   "cell_type": "code",
   "execution_count": 61,
   "metadata": {},
   "outputs": [
    {
     "name": "stdout",
     "output_type": "stream",
     "text": [
      "Result table created\n"
     ]
    }
   ],
   "source": [
    "k=c.execute('CREATE TABLE IF NOT EXISTS results(id INTEGER PRIMARY KEY, username TEXT, predictions REAL)')\n",
    "if c==k:\n",
    "    print('Result table created')\n",
    "else:\n",
    "    print('Could not be created')\n",
    "    \n",
    "assert c==k"
   ]
  },
  {
   "cell_type": "code",
   "execution_count": 9,
   "metadata": {},
   "outputs": [
    {
     "data": {
      "text/plain": [
       "array([12857.89262414])"
      ]
     },
     "execution_count": 9,
     "metadata": {},
     "output_type": "execute_result"
    }
   ],
   "source": [
    "def prediction(carat,cut,color,clarity,depth,table,width,height):\n",
    "    pickle_in = open('model3.pkl', 'rb')\n",
    "    regressor = pickle.load(pickle_in)\n",
    "    predict_=[carat,cut,color,clarity,depth,table,width,height]\n",
    "    price=np.array(predict_).reshape(-1,8)\n",
    "    reg=regressor.predict(price)\n",
    "    return reg\n",
    "\n"
   ]
  },
  {
   "cell_type": "code",
   "execution_count": 26,
   "metadata": {},
   "outputs": [
    {
     "data": {
      "text/plain": [
       "78.61222942803326"
      ]
     },
     "execution_count": 26,
     "metadata": {},
     "output_type": "execute_result"
    }
   ],
   "source": [
    "carat=0\n",
    "cut=0\n",
    "color=0\n",
    "clarity=0\n",
    "depth=0\n",
    "table=0\n",
    "width=0\n",
    "height=0\n",
    "pred=prediction(carat,cut,color,clarity,depth,table,width,height)\n",
    "pred[0]"
   ]
  },
  {
   "cell_type": "code",
   "execution_count": 29,
   "metadata": {},
   "outputs": [
    {
     "data": {
      "text/plain": [
       "78.61222942803326"
      ]
     },
     "execution_count": 29,
     "metadata": {},
     "output_type": "execute_result"
    }
   ],
   "source": [
    "create_resultstable()\n",
    "add_resultsdata(username, pred[0])\n",
    "res = pd.DataFrame(view_all_results(),columns=['Username','Prediction'])\n",
    "list(res['Prediction'])[-1]"
   ]
  },
  {
   "cell_type": "code",
   "execution_count": 30,
   "metadata": {},
   "outputs": [],
   "source": [
    "def create_resultstable():\n",
    "    c.execute('DROP TABLE results')"
   ]
  },
  {
   "cell_type": "code",
   "execution_count": null,
   "metadata": {},
   "outputs": [],
   "source": [
    "def prediction(carat,cut,color,clarity,depth,table,width,height):\n",
    "    pickle_in = open('model3.pkl', 'rb')\n",
    "    regressor = pickle.load(pickle_in)\n",
    "    predict_=[carat,cut,color,clarity,depth,table,width,height]\n",
    "    price=np.array(predict_).reshape(-1,8)\n",
    "    reg=regressor.predict(price)\n",
    "    return reg\n",
    "\n",
    "def test_prediction():\n",
    "    assert prediction(1,2,3,4,5,6,7,8)[0] == float"
   ]
  },
  {
   "cell_type": "code",
   "execution_count": null,
   "metadata": {},
   "outputs": [],
   "source": []
  }
 ],
 "metadata": {
  "kernelspec": {
   "display_name": "Python 3",
   "language": "python",
   "name": "python3"
  },
  "language_info": {
   "codemirror_mode": {
    "name": "ipython",
    "version": 3
   },
   "file_extension": ".py",
   "mimetype": "text/x-python",
   "name": "python",
   "nbconvert_exporter": "python",
   "pygments_lexer": "ipython3",
   "version": "3.7.6"
  }
 },
 "nbformat": 4,
 "nbformat_minor": 4
}
