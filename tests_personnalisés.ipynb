{
 "cells": [
  {
   "cell_type": "code",
   "execution_count": 28,
   "metadata": {},
   "outputs": [],
   "source": [
    "import pytest\n",
    "import sqlite3\n",
    "import pickle\n",
    "import numpy as np\n",
    "import pandas as pd\n",
    "\n",
    "conn=sqlite3.connect('test_db.db')\n",
    "c=conn.cursor()"
   ]
  },
  {
   "cell_type": "code",
   "execution_count": 29,
   "metadata": {},
   "outputs": [
    {
     "name": "stdout",
     "output_type": "stream",
     "text": [
      "Table created!\n"
     ]
    }
   ],
   "source": [
    "f=c.execute('CREATE TABLE IF NOT EXISTS users(id INTEGER PRIMARY KEY,  admin INTEGER, username TEXT, password TEXT)')\n",
    "if c==f:\n",
    "    print('Table created!')\n",
    "else:\n",
    "    print('Table not created!')"
   ]
  },
  {
   "cell_type": "code",
   "execution_count": 30,
   "metadata": {},
   "outputs": [
    {
     "name": "stdout",
     "output_type": "stream",
     "text": [
      "Table fulfilled!\n"
     ]
    },
    {
     "data": {
      "text/plain": [
       "True"
      ]
     },
     "execution_count": 30,
     "metadata": {},
     "output_type": "execute_result"
    }
   ],
   "source": [
    "username='Younglink'\n",
    "password='K5644'\n",
    "admin=1\n",
    "g=c.execute('INSERT INTO users(admin, username, password) VALUES (?,?,?)',(admin,username,password))\n",
    "if c==g:\n",
    "    print('Table fulfilled!')\n",
    "else:\n",
    "    print('Not fulfilled!')\n",
    "\n",
    "c==g"
   ]
  },
  {
   "cell_type": "code",
   "execution_count": 31,
   "metadata": {},
   "outputs": [
    {
     "name": "stdout",
     "output_type": "stream",
     "text": [
      "1\n"
     ]
    }
   ],
   "source": [
    "h=c.execute('SELECT * FROM users WHERE username =? AND password =?',(username, password))\n",
    "if c==h:\n",
    "    print('1')\n",
    "else:\n",
    "    print('0')"
   ]
  },
  {
   "cell_type": "code",
   "execution_count": 32,
   "metadata": {},
   "outputs": [
    {
     "name": "stdout",
     "output_type": "stream",
     "text": [
      "Table displayed!\n"
     ]
    }
   ],
   "source": [
    "i=c.execute('SELECT * FROM users')\n",
    "if c==i:\n",
    "    print('Table displayed!')\n",
    "else:\n",
    "    print('Table not displayed!')"
   ]
  },
  {
   "cell_type": "code",
   "execution_count": 33,
   "metadata": {},
   "outputs": [
    {
     "name": "stdout",
     "output_type": "stream",
     "text": [
      "Data table created and displayed!\n"
     ]
    }
   ],
   "source": [
    "df=pd.read_csv('zirconia_cubic.csv')\n",
    "df.head().to_sql(\"data\", conn, if_exists=\"replace\",index_label='id')\n",
    "\n",
    "j=c.execute(\"select * from data\")\n",
    "if c==j:\n",
    "    print('Data table created and displayed!')\n",
    "else:\n",
    "    print(\"Couldn't be created!\")"
   ]
  },
  {
   "cell_type": "code",
   "execution_count": 34,
   "metadata": {},
   "outputs": [
    {
     "name": "stdout",
     "output_type": "stream",
     "text": [
      "Result table created !\n"
     ]
    }
   ],
   "source": [
    "# c.execute('PRAGMA foreign_keys = ON')\n",
    "k=c.execute('CREATE TABLE IF NOT EXISTS results(Id INTEGER PRIMARY KEY, username TEXT, predictions REAL, FOREIGN KEY(Id) REFERENCES users(id))')\n",
    "if c==k:\n",
    "    print('Result table created !')\n",
    "else:\n",
    "    print('Could not be created!')"
   ]
  },
  {
   "cell_type": "code",
   "execution_count": null,
   "metadata": {},
   "outputs": [],
   "source": []
  },
  {
   "cell_type": "code",
   "execution_count": null,
   "metadata": {},
   "outputs": [],
   "source": []
  },
  {
   "cell_type": "code",
   "execution_count": null,
   "metadata": {},
   "outputs": [],
   "source": []
  }
 ],
 "metadata": {
  "kernelspec": {
   "display_name": "Python 3",
   "language": "python",
   "name": "python3"
  },
  "language_info": {
   "codemirror_mode": {
    "name": "ipython",
    "version": 3
   },
   "file_extension": ".py",
   "mimetype": "text/x-python",
   "name": "python",
   "nbconvert_exporter": "python",
   "pygments_lexer": "ipython3",
   "version": "3.7.6"
  }
 },
 "nbformat": 4,
 "nbformat_minor": 4
}
